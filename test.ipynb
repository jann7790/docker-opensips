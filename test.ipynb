{
 "cells": [
  {
   "cell_type": "code",
   "execution_count": 3,
   "metadata": {},
   "outputs": [
    {
     "name": "stdout",
     "output_type": "stream",
     "text": [
      "7c4a8d09ca3762af61e59520943dc26494f8941b\n",
      "299bbc6453f96d5cb3e91f389a2df191748fb32623c293eeabec236f3184c468\n"
     ]
    }
   ],
   "source": [
    "import hashlib\n",
    "def ha1_encode(input):\n",
    "    return hashlib.sha1(input.encode('utf-8')).hexdigest()\n",
    "\n",
    "def sha256_encode(input):\n",
    "    return hashlib.sha256(input.encode('utf-8')).hexdigest()\n",
    "\n",
    "print(ha1_encode(\"123456\"))\n",
    "print(sha256_encode(ha1_encode(\"123456\")))\n",
    "\n",
    "DEFAULT_DB_NAME = \"opensips\"\n",
    "USER_TABLE = \"subscriber\"\n",
    "USER_NAME_COL = \"username\"\n",
    "USER_DOMAIN_COL = \"domain\"\n",
    "USER_PASS_COL = \"password\"\n",
    "USER_HA1_COL = \"ha1\"\n",
    "USER_HA1B_COL = \"ha1b\"\n",
    "USER_HA1_SHA256_COL = \"ha1_sha256\"\n",
    "USER_HA1_SHA512T256_COL = \"ha1_sha512t256\"\n",
    "USER_RPID_COL = \"rpid\"\n",
    "sip_ip = \"172.27.191.245\"\n"
   ]
  },
  {
   "cell_type": "code",
   "execution_count": 15,
   "metadata": {},
   "outputs": [
    {
     "name": "stdout",
     "output_type": "stream",
     "text": [
      "INSERT INTO subscriber (username, domain, ha1, ha1_sha256, ha1_sha512t256) VALUES ('1000', '172.27.191.245', '7fed1cb22fcaa923287e94753db8f604', 'a46e73e05913604c0c628659d24c220f7c5dff4d53a4cb974f1b9a32a6e9b59e', 'c538247777b8bd7e26396acde9f45740087b84cad0ff8605945de068446646f9');\n"
     ]
    }
   ],
   "source": [
    "def user_get_ha1(user, domain, password):\n",
    "    string = \"{}:{}:{}\".format(user, domain, password)\n",
    "    return hashlib.md5(string.encode('utf-8')).hexdigest()\n",
    "\n",
    "def user_get_ha1_sha256(user, domain, password):\n",
    "    string = \"{}:{}:{}\".format(user, domain, password)\n",
    "    return hashlib.sha256(string.encode('utf-8')).hexdigest()\n",
    "\n",
    "def user_get_ha1_sha512t256(user, domain, password):\n",
    "    string = \"{}:{}:{}\".format(user, domain, password)\n",
    "    o = hashlib.new(\"sha512-256\")\n",
    "    o.update(string.encode('utf-8'))\n",
    "    return o.hexdigest()\n",
    "\n",
    "username = \"1000\"\n",
    "domain = \"172.27.191.245\"\n",
    "password = \"123456\"\n",
    "\n",
    "\n",
    "\n",
    "def save_user_to_database(username, password):\n",
    "    ha1 = user_get_ha1(username, domain, password)\n",
    "    ha1_sha256 = user_get_ha1_sha256(username, domain, password)\n",
    "    ha1_sha512t256 = user_get_ha1_sha512t256(username, domain, password)\n",
    "    \n",
    "\n",
    "    statement = f\"INSERT INTO subscriber (username, domain, ha1, ha1_sha256, ha1_sha512t256) \\\n",
    "VALUES ('{username}', '{domain}', '{ha1}', '{ha1_sha256}', '{ha1_sha512t256}');\"\n",
    "    print(statement)\n",
    "\n",
    "save_user_to_database(username, password)"
   ]
  },
  {
   "cell_type": "code",
   "execution_count": 16,
   "metadata": {},
   "outputs": [
    {
     "name": "stdout",
     "output_type": "stream",
     "text": [
      "1000 172.27.191.245 123456\n"
     ]
    },
    {
     "data": {
      "text/plain": [
       "\"SELECT * FROM `subscriber` WHERE `username`='1000' AND `ha1`='7fed1cb22fcaa923287e94753db8f604';\""
      ]
     },
     "execution_count": 16,
     "metadata": {},
     "output_type": "execute_result"
    }
   ],
   "source": [
    "# INSERT INTO subscriber (username, domain, ha1, ha1_sha256, ha1_sha512t256) VALUES ('1000', '123.123', 'dd138dc97020b98d5399951d01313784', 'b5c0e0b7628674c93131af82d34c3f79fe8ecc7b3b375ccb3d2eecefdc108c6d', '53d50ccad23d754af241a862395fa81fa7be1031c5cbd026bdf10c167d7ec766')\n",
    "print(username, domain, password)\n",
    "f\"SELECT * FROM `subscriber` WHERE `username`='{username}' AND `ha1`='{user_get_ha1(username, domain, password)}';\""
   ]
  },
  {
   "cell_type": "code",
   "execution_count": null,
   "metadata": {},
   "outputs": [],
   "source": []
  }
 ],
 "metadata": {
  "kernelspec": {
   "display_name": "Python 3",
   "language": "python",
   "name": "python3"
  },
  "language_info": {
   "codemirror_mode": {
    "name": "ipython",
    "version": 3
   },
   "file_extension": ".py",
   "mimetype": "text/x-python",
   "name": "python",
   "nbconvert_exporter": "python",
   "pygments_lexer": "ipython3",
   "version": "3.8.10"
  },
  "orig_nbformat": 4
 },
 "nbformat": 4,
 "nbformat_minor": 2
}
